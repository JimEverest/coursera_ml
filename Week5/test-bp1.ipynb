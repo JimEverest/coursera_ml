{
 "cells": [
  {
   "cell_type": "code",
   "execution_count": 169,
   "metadata": {
    "collapsed": true
   },
   "outputs": [],
   "source": [
    "import numpy as np\n",
    "import matplotlib.pyplot as plt\n",
    "from scipy.io  import loadmat"
   ]
  },
  {
   "cell_type": "code",
   "execution_count": 166,
   "metadata": {
    "scrolled": true
   },
   "outputs": [
    {
     "data": {
      "text/plain": [
       "(5000, 1)"
      ]
     },
     "execution_count": 166,
     "metadata": {},
     "output_type": "execute_result"
    }
   ],
   "source": [
    "data = loadmat('ex4data1.mat')\n",
    "X = np.hstack([np.ones([5000,1]), data['X']])\n",
    "#X.shape\n",
    "y=data['y']\n",
    "y.shape"
   ]
  },
  {
   "cell_type": "code",
   "execution_count": 167,
   "metadata": {},
   "outputs": [
    {
     "data": {
      "text/plain": [
       "0.5"
      ]
     },
     "execution_count": 167,
     "metadata": {},
     "output_type": "execute_result"
    }
   ],
   "source": [
    "def sigmoid(z):\n",
    "    return 1 / (1+np.exp(-z))\n",
    "sigmoid(0)"
   ]
  },
  {
   "cell_type": "code",
   "execution_count": 168,
   "metadata": {
    "scrolled": false
   },
   "outputs": [
    {
     "data": {
      "image/png": "[encoded data removed]",
      "text/plain": [
       "<matplotlib.figure.Figure at 0x226e4b3ce48>"
      ]
     },
     "metadata": {},
     "output_type": "display_data"
    }
   ],
   "source": [
    "def showOne(x):\n",
    "    img = x.reshape([20,20]).T\n",
    "    plt.imshow(img, cmap='gray')\n",
    "    plt.show()\n",
    "showOne(data['X'][4999])"
   ]
  },
  {
   "cell_type": "code",
   "execution_count": 8,
   "metadata": {
    "collapsed": true
   },
   "outputs": [],
   "source": [
    "def onehot(y):\n",
    "    y = np.where(y==10,0,y) # replace 10 with 0\n",
    "    y_oh = np.zeros([5000,10])\n",
    "    y_oh[np.arange(5000), y] = 1\n",
    "    return y_oh\n",
    "y_oh = onehot(y.reshape(-1))"
   ]
  },
  {
   "cell_type": "code",
   "execution_count": 178,
   "metadata": {},
   "outputs": [
    {
     "data": {
      "text/plain": [
       "array([1., 0., 0., 0., 0., 0., 0., 0., 0., 0.])"
      ]
     },
     "execution_count": 178,
     "metadata": {},
     "output_type": "execute_result"
    }
   ],
   "source": [
    "y_oh[0]"
   ]
  },
  {
   "cell_type": "code",
   "execution_count": 10,
   "metadata": {
    "collapsed": true
   },
   "outputs": [],
   "source": [
    "#X : 5000*401\n",
    "def fp(theta1, theta2,X):\n",
    "    #theta1 : 25*401\n",
    "    # X.T   : 401 * 5000\n",
    "    # a2    : 5000 *25\n",
    "    a2 = sigmoid(theta1.dot(X.T)).T\n",
    "    \n",
    "    #theta2 : 10*26\n",
    "    # a2    : 5000 * 25\n",
    "    # a2A   : 5000 * 26\n",
    "    a2A = np.hstack([np.ones([5000,1 ]), a2])\n",
    "    print (\"a2A --->\", a2A.shape)\n",
    "    \n",
    "    # a3    : 5000 * 10\n",
    "    a3 = sigmoid (a2A.dot(theta2.T))\n",
    "    \n",
    "    return a2,a3\n",
    "    "
   ]
  },
  {
   "cell_type": "code",
   "execution_count": 145,
   "metadata": {
    "collapsed": true
   },
   "outputs": [],
   "source": [
    "#X : 1*401\n",
    "def fp1(theta1, theta2,X):\n",
    "    #theta1 : 25*401\n",
    "    # X.T   : 401 * 1\n",
    "    # a2    : 1 *25\n",
    "    X = X.reshape([401,-1])\n",
    "    #print('[FP] X.shape',X.shape)\n",
    "    a2 = sigmoid(theta1.dot(X))\n",
    "    \n",
    "    #theta2 : 10*26\n",
    "    # a2    : 25 * 1\n",
    "    # a2A   : 26 * 1\n",
    "    a2A = np.vstack([1,a2])\n",
    "    # a2A   : 1 * 26\n",
    "    a2A = a2A.T\n",
    "    #print (\"[FP] a2A --->\", a2A.shape)\n",
    "    \n",
    "    # a3    : 1 * 10   {(1*26) . (26*10)}\n",
    "    a3 = sigmoid (a2A.dot(theta2.T))\n",
    "    \n",
    "    #print('[FP] a3.shape', a3.shape)\n",
    "    return a2A,a3\n",
    "    "
   ]
  },
  {
   "cell_type": "markdown",
   "metadata": {},
   "source": [
    "# Cost Function:\n",
    "<img width = '400' src = \"https://work.alibaba-inc.com/aliwork_tfs/g01_alibaba-inc_com/tfscom/TB1.r_RagMPMeJjy1XbXXcwxVXa.tfsprivate.png\"/>"
   ]
  },
  {
   "cell_type": "code",
   "execution_count": 185,
   "metadata": {},
   "outputs": [
    {
     "data": {
      "text/plain": [
       "(0.12353488424625858, -0.11960435707341235)"
      ]
     },
     "execution_count": 185,
     "metadata": {},
     "output_type": "execute_result"
    }
   ],
   "source": [
    "tt = np.random.random(size=100)\n",
    "np.max((tt-0.5)*0.25), np.min((tt-0.5)*0.25)"
   ]
  },
  {
   "cell_type": "code",
   "execution_count": 186,
   "metadata": {},
   "outputs": [
    {
     "data": {
      "text/plain": [
       "0.125"
      ]
     },
     "execution_count": 186,
     "metadata": {},
     "output_type": "execute_result"
    }
   ],
   "source": [
    "0.5*0.25"
   ]
  },
  {
   "cell_type": "code",
   "execution_count": null,
   "metadata": {
    "collapsed": true
   },
   "outputs": [],
   "source": [
    "input_size = 400  \n",
    "hidden_size = 25  \n",
    "num_labels = 10  \n",
    "learning_rate = 1\n",
    "\n",
    "params = (np.random.random(size=hidden_size * (input_size + 1) + num_labels * (hidden_size + 1)) - 0.5) * 0.25"
   ]
  },
  {
   "cell_type": "code",
   "execution_count": 18,
   "metadata": {
    "collapsed": true
   },
   "outputs": [],
   "source": [
    "#without for loop\n",
    "def cost2(theta,X , y):\n",
    "    theta1 = theta[0:10025].reshape([25,401])     #10025 (401*25)\n",
    "    theta2 = theta[10025:10285].reshape([10,26])  #260   ( 10*26)\n",
    "    a2,a3 = fp(theta1, theta2, X)\n",
    "    \n",
    "    print('-----------------------------------------------------------------')\n",
    "    print('a3.shape---->',a3.shape)\n",
    "    print('y_oh.shape-->',y_oh.shape)\n",
    "    e1 = np.sum(y_oh * ( np.log(a3) ), axis=1)\n",
    "    \n",
    "    e2 = np.sum((1-y_oh) * ( np.log(1-a3) ), axis=1)\n",
    "    print(e2.shape)\n",
    "    errs = 0\n",
    "\n",
    "    #a3 : [5000,10]\n",
    "    #h  : [5000,10]\n",
    "    #y  : [5000,10]\n",
    "\n",
    "    errs =errs + np.sum(e1) + np.sum(e2)\n",
    "\n",
    "    regulTerm =  1/2 * 1/5000 * np.sum(np.square(theta))\n",
    "    return (1/5000) * errs + regulTerm"
   ]
  },
  {
   "cell_type": "code",
   "execution_count": 173,
   "metadata": {},
   "outputs": [
    {
     "name": "stdout",
     "output_type": "stream",
     "text": [
      "a2A ---> (5000, 26)\n",
      "-----------------------------------------------------------------\n",
      "a3.shape----> (5000, 10)\n",
      "y_oh.shape--> (5000, 10)\n",
      "(5000,)\n",
      "-----------------------------------------------------------------\n",
      "-6.931471805599455\n"
     ]
    }
   ],
   "source": [
    "cs = cost2(initTheta,X , y)\n",
    "print('-----------------------------------------------------------------')\n",
    "print(cs)"
   ]
  },
  {
   "cell_type": "markdown",
   "metadata": {},
   "source": [
    "<img width=\"400\" src=\"http://7xrrje.com1.z0.glb.clouddn.com/screenshot_156.png\"/>"
   ]
  },
  {
   "cell_type": "code",
   "execution_count": 174,
   "metadata": {},
   "outputs": [
    {
     "name": "stdout",
     "output_type": "stream",
     "text": [
      "(10285,)\n"
     ]
    }
   ],
   "source": [
    "randomTheta = np.random.uniform(-0.5,0.5,(10285))\n",
    "print (randomTheta.shape)"
   ]
  },
  {
   "cell_type": "code",
   "execution_count": 175,
   "metadata": {
    "collapsed": true
   },
   "outputs": [],
   "source": [
    "# theta: 10285\n",
    "# X    : 401    only 1 image here\n",
    "# y    :  10    only 1 image here\n",
    "def bp(theta, X,y):\n",
    "    theta1 = theta[0:10025].reshape([25,401])     #10025 (401*25)\n",
    "    theta2 = theta[10025:10285].reshape([10,26])  #260   ( 10*26)\n",
    "    a2,a3 = fp1(theta1, theta2, X)  \n",
    "    #print('[bp] a2-------------->',a2.shape)\n",
    "    delta3 = (a3 - y).T   # [10, 1]\n",
    "    #print('[bp] delta3---------->',delta3.shape)\n",
    "    d2 = theta2.T.dot(delta3) # [26*10] . [10*1]\n",
    "    g2 = (a2 * (1-a2)).T  # todo : ???\n",
    "    delta2 = d2 * g2 # 26\n",
    "    delta2 = np.delete(delta2, 0).reshape([25,1])    #25 abandon error of bias unit...\n",
    "    #print(d2.shape)\n",
    "    #print(g2.shape)\n",
    "    #print('[bp] delta2---------->',delta2.shape)\n",
    "    \n",
    "    \n",
    "    #STEP E\n",
    "    Delt2 = delta3.dot(a2)  #[10*1] . [1*26] = (10, 26)\n",
    "    #print('[bp] Delt2---------->',Delt2.shape)\n",
    "    Delt1 = delta2.dot(X.reshape([-1,401])) #[25*1] . [1*401] =(25, 401)\n",
    "    #print('[bp] Delt1---------->',Delt1.shape) \n",
    "    return Delt1, Delt2\n",
    "    "
   ]
  },
  {
   "cell_type": "code",
   "execution_count": 176,
   "metadata": {},
   "outputs": [
    {
     "name": "stdout",
     "output_type": "stream",
     "text": [
      "a\tb\n"
     ]
    }
   ],
   "source": [
    "print('a' + '\\t' + 'b')"
   ]
  },
  {
   "cell_type": "code",
   "execution_count": 177,
   "metadata": {},
   "outputs": [
    {
     "data": {
      "text/plain": [
       "array([1, 2, 3, 4, 5, 6, 7, 8])"
      ]
     },
     "execution_count": 177,
     "metadata": {},
     "output_type": "execute_result"
    }
   ],
   "source": [
    "ta = np.array([1,2,3,4]).reshape([2,2])\n",
    "tb = np.array([5,6,7,8]).reshape([2,2])\n",
    "\n",
    "np.append(ta.flatten(), tb.flatten())"
   ]
  },
  {
   "cell_type": "code",
   "execution_count": 164,
   "metadata": {},
   "outputs": [
    {
     "name": "stdout",
     "output_type": "stream",
     "text": [
      "Del1 shape (25, 401)\n",
      "[-0.02342613  0.00189451  0.00449026 ...  0.08786058  0.05639899\n",
      "  0.07036772]\n",
      "(10285,)\n"
     ]
    }
   ],
   "source": [
    "# theta: 10285\n",
    "# X    : 5000* 401    only 1 image here\n",
    "# y    : 5000* 10     only 1 image here\n",
    "def BP(theta, X, y, reg):\n",
    "    theta1 = theta[0:10025].reshape([25,401])     #10025 (401*25)\n",
    "    theta2 = theta[10025:10285].reshape([10,26])  #260   ( 10*26)\n",
    "    \n",
    "    Del1 = np.zeros([25, 401])\n",
    "    Del2 = np.zeros([10, 26])\n",
    "    \n",
    "    for i in range(X.shape[0]):\n",
    "        Delta1, Delta2 = bp(theta, X[i],y[i])\n",
    "        \n",
    "        Del1 = Del1 + Delta1 \n",
    "        Del2 = Del2 + Delta2 \n",
    "        #print('[BP] Shapes------> ',Delta1.shape,'\\t', Del1.shape)\n",
    "    \n",
    "    print('Del1 shape' ,  Del1.shape)\n",
    "    \n",
    "    D1 = (1/5000) * Del1 + reg*theta1 #todo: remove reg terms for bias weights... (Theta1/1,0) <-------- 0\n",
    "    D2 = (1/5000) * Del2 + reg*theta2\n",
    "    \n",
    "    allD = np.append(D1.flatten(), D2.flatten())\n",
    "    return allD\n",
    "\n",
    "allD = BP(randomTheta,X,y_oh,0.1)\n",
    "print(allD)\n",
    "print(allD.shape)"
   ]
  },
  {
   "cell_type": "code",
   "execution_count": 124,
   "metadata": {},
   "outputs": [
    {
     "name": "stdout",
     "output_type": "stream",
     "text": [
      "X.shape (401, 1)\n",
      "a2A ---> (1, 26)\n",
      "a3.shape (1, 10)\n",
      "a2--------------> (1, 26)\n",
      "delta3----------> (10, 1)\n",
      "(26, 1)\n",
      "(26, 1)\n",
      "delta2----------> (26, 1)\n",
      "Delt2----------> (10, 26)\n",
      "Delt1----------> (26, 401)\n"
     ]
    }
   ],
   "source": [
    "bp(randomTheta, X[0],y_oh[0])"
   ]
  },
  {
   "cell_type": "code",
   "execution_count": null,
   "metadata": {
    "collapsed": true
   },
   "outputs": [],
   "source": []
  },
  {
   "cell_type": "code",
   "execution_count": 73,
   "metadata": {},
   "outputs": [
    {
     "name": "stdout",
     "output_type": "stream",
     "text": [
      "[[ 1  4]\n",
      " [ 9 16]]\n"
     ]
    },
    {
     "data": {
      "text/plain": [
       "30"
      ]
     },
     "execution_count": 73,
     "metadata": {},
     "output_type": "execute_result"
    }
   ],
   "source": [
    "# test matrix * multiply\n",
    "ar1 = np.array([[1,2],[3,4]])\n",
    "ar2 = np.array([[1,2],[3,4]])\n",
    "ar = ar1*(ar2)\n",
    "print(ar)\n",
    "np.sum(ar)"
   ]
  },
  {
   "cell_type": "code",
   "execution_count": 72,
   "metadata": {},
   "outputs": [
    {
     "data": {
      "text/plain": [
       "30"
      ]
     },
     "execution_count": 72,
     "metadata": {},
     "output_type": "execute_result"
    }
   ],
   "source": []
  },
  {
   "cell_type": "code",
   "execution_count": null,
   "metadata": {
    "collapsed": true
   },
   "outputs": [],
   "source": []
  },
  {
   "cell_type": "code",
   "execution_count": null,
   "metadata": {
    "collapsed": true
   },
   "outputs": [],
   "source": []
  },
  {
   "cell_type": "code",
   "execution_count": null,
   "metadata": {
    "collapsed": true
   },
   "outputs": [],
   "source": []
  },
  {
   "cell_type": "code",
   "execution_count": null,
   "metadata": {
    "collapsed": true
   },
   "outputs": [],
   "source": []
  },
  {
   "cell_type": "code",
   "execution_count": 64,
   "metadata": {},
   "outputs": [
    {
     "data": {
      "image/png": "[encoded data removed]",
      "text/plain": [
       "<matplotlib.figure.Figure at 0x1517c218080>"
      ]
     },
     "metadata": {},
     "output_type": "display_data"
    },
    {
     "data": {
      "text/plain": [
       "array([10], dtype=uint8)"
      ]
     },
     "execution_count": 64,
     "metadata": {},
     "output_type": "execute_result"
    }
   ],
   "source": [
    "\n",
    "x00 = data['X'][0].reshape([20,20]).T\n",
    "plt.imshow(x00, cmap='gray')\n",
    "plt.show()\n",
    "y[0]"
   ]
  },
  {
   "cell_type": "code",
   "execution_count": 65,
   "metadata": {
    "collapsed": true
   },
   "outputs": [],
   "source": [
    "hiddensize = 25\n",
    "samples = 5000\n",
    "features = 400\n",
    "outputClass =10"
   ]
  },
  {
   "cell_type": "code",
   "execution_count": 6,
   "metadata": {
    "collapsed": true
   },
   "outputs": [],
   "source": [
    "def sigmoid(z):\n",
    "    return 1/(1+np.exp(-z))"
   ]
  },
  {
   "cell_type": "code",
   "execution_count": 5,
   "metadata": {
    "collapsed": true
   },
   "outputs": [],
   "source": [
    "#hx: 5000*10\n",
    "#Oy: 5000*10\n",
    "#theta1: 25*401\n",
    "#theta2: 10*26\n",
    "\n",
    "def cost(theta, hX,Oy):\n",
    "    errs = 0\n",
    "    for i in range(5000):\n",
    "        y = Oy(i) #10 hori Vec\n",
    "        x = hX(i) #10 hori Vec\n",
    "        vx = x.reshape(-1,1)\n",
    "        e1 = -y.dot(np.log(vx))\n",
    "        e2 = -(1-y).dot(np.log(1-vx))\n",
    "        err = e1+e2\n",
    "        errs+=err\n",
    "        \n",
    "        thetaAllSquare = np.square(theta)\n",
    "        \n",
    "        regTerms = (1/5000)*lamda * ()\n",
    "    return (1/5000)*errs "
   ]
  },
  {
   "cell_type": "code",
   "execution_count": 20,
   "metadata": {
    "collapsed": true
   },
   "outputs": [],
   "source": [
    "# FP for single sample\n",
    "def ForwardPropagation(theta, X1):\n",
    "    #theta1: 25*401\n",
    "    theta1 = theta[:25*401].reshape([25,401])\n",
    "    #theta2: 10*26\n",
    "    theta2 = theta[25*401:].reshape([10,26])\n",
    "    \n",
    "    #X1: [401,]\n",
    "    a1 = X1\n",
    "    \n",
    "    #z1: [25,1]\n",
    "    z2 = theta1.dot(a1)\n",
    "    a2 = sigmoid(z2).reshape([-1,1])\n",
    "    \n",
    "    \n",
    "    #appending a20\n",
    "    print('a2.shape--->', a2.shape)\n",
    "    a2 = np.vstack([1, a2])\n",
    "    \n",
    "    \n",
    "    z3 = theta2.dot(a2)\n",
    "    a2 = sigmoid(a1).reshape([-1,1])\n",
    "    print('a2.shape--->', a2.shape)\n",
    "    return a2,a1 # 10*1"
   ]
  },
  {
   "cell_type": "code",
   "execution_count": 14,
   "metadata": {
    "collapsed": true
   },
   "outputs": [],
   "source": []
  },
  {
   "cell_type": "code",
   "execution_count": 10,
   "metadata": {},
   "outputs": [
    {
     "data": {
      "text/plain": [
       "array([[3.],\n",
       "       [4.],\n",
       "       [5.],\n",
       "       [6.]])"
      ]
     },
     "execution_count": 10,
     "metadata": {},
     "output_type": "execute_result"
    }
   ],
   "source": [
    "# BP for one sample\n",
    "def BackPropagation(theta,X1,y):\n",
    "    #theta1: 25*401\n",
    "    theta1 = theta[:25*401].reshape([25,401])\n",
    "    #theta2: 10*26\n",
    "    theta2 = theta[25*401:].reshape([10,26])\n",
    "    #X: [401,]\n",
    "    a0 = X1\n",
    "    \n",
    "    hx,a1 = ForwardPropagation(theta, X1) [10,1]\n",
    "    delta3 =  hx - y\n",
    "    \n",
    "    gPrime2 = a1 * (1-a1)\n",
    "    delta2 = theta2.T.dot(delta2).reshape([-1,1]) * gPrime2\n",
    "    \n",
    "    return delta2,delta3\n",
    "\n",
    "\n",
    "def gradient():\n",
    "    D1 = delta2.dot(a1.T)\n",
    "    D2 = delta3.dot(a2.T)\n",
    "    "
   ]
  },
  {
   "cell_type": "code",
   "execution_count": 28,
   "metadata": {},
   "outputs": [
    {
     "data": {
      "text/plain": [
       "array([[   0],\n",
       "       [ -12],\n",
       "       [ -72],\n",
       "       [-240],\n",
       "       [-600]])"
      ]
     },
     "execution_count": 28,
     "metadata": {},
     "output_type": "execute_result"
    }
   ],
   "source": [
    "aaa = np.array([1,2,3,4,5]).reshape([-1,1])\n",
    "bbb = np.array([1,2,3,4,5]).reshape([-1,1])\n",
    "xxx = aaa*bbb\n",
    "xxx * (1-xxx)"
   ]
  },
  {
   "cell_type": "code",
   "execution_count": 26,
   "metadata": {},
   "outputs": [
    {
     "name": "stdout",
     "output_type": "stream",
     "text": [
      "a1.shape---> (25, 1)\n",
      "a2.shape---> (26, 1)\n"
     ]
    },
    {
     "data": {
      "text/plain": [
       "array([[0.73105858],\n",
       "       [0.62245933],\n",
       "       [0.62245933],\n",
       "       [0.62245933],\n",
       "       [0.62245933],\n",
       "       [0.62245933],\n",
       "       [0.62245933],\n",
       "       [0.62245933],\n",
       "       [0.62245933],\n",
       "       [0.62245933],\n",
       "       [0.62245933],\n",
       "       [0.62245933],\n",
       "       [0.62245933],\n",
       "       [0.62245933],\n",
       "       [0.62245933],\n",
       "       [0.62245933],\n",
       "       [0.62245933],\n",
       "       [0.62245933],\n",
       "       [0.62245933],\n",
       "       [0.62245933],\n",
       "       [0.62245933],\n",
       "       [0.62245933],\n",
       "       [0.62245933],\n",
       "       [0.62245933],\n",
       "       [0.62245933],\n",
       "       [0.62245933]])"
      ]
     },
     "execution_count": 26,
     "metadata": {},
     "output_type": "execute_result"
    }
   ],
   "source": [
    "initTheta = np.zeros([10285])\n",
    "X1 = X[0]\n",
    "hx = ForwardPropagation(initTheta, X1)\n",
    "hx"
   ]
  },
  {
   "cell_type": "code",
   "execution_count": 12,
   "metadata": {},
   "outputs": [
    {
     "data": {
      "text/plain": [
       "(401,)"
      ]
     },
     "execution_count": 12,
     "metadata": {},
     "output_type": "execute_result"
    }
   ],
   "source": [
    "X[0].shape"
   ]
  },
  {
   "cell_type": "code",
   "execution_count": null,
   "metadata": {
    "collapsed": true
   },
   "outputs": [],
   "source": [
    "# FP for all samples\n",
    "# X [5000, 401]\n",
    "def ForwardPropagationAll(theta, X):\n",
    "    #theta1: 25*401\n",
    "    theta1 = theta[:25*401].reshape([25,401])\n",
    "    #theta2: 10*26\n",
    "    theta2 = theta[25*401:].reshape([10,26])\n",
    "    #X: [5000,401]\n",
    "    a0 = X\n",
    "    #theta1: 25*401\n",
    "    #z1: [5000,25]\n",
    "    z1 = theta1.T.dot(X)\n",
    "    a1 = sigmoid(z1)\n",
    "    #appending a10\n",
    "    a1 = np.hstack([np.ones([5000,1]), a1])\n",
    "    #a1: [5000, 26]\n",
    "    # theta2: 10*26\n",
    "    #z2: [5000,10]\n",
    "    z2 = theta2.T.dot(a1)\n",
    "    a2 = sigmoid(a1)\n",
    "    return a2 # [5000,10]"
   ]
  }
 ],
 "metadata": {
  "kernelspec": {
   "display_name": "Python 3",
   "language": "python",
   "name": "python3"
  },
  "language_info": {
   "codemirror_mode": {
    "name": "ipython",
    "version": 3
   },
   "file_extension": ".py",
   "mimetype": "text/x-python",
   "name": "python",
   "nbconvert_exporter": "python",
   "pygments_lexer": "ipython3",
   "version": "3.6.3"
  }
 },
 "nbformat": 4,
 "nbformat_minor": 2
}
